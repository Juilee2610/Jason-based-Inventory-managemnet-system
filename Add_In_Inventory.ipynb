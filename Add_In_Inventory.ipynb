{
  "nbformat": 4,
  "nbformat_minor": 0,
  "metadata": {
    "colab": {
      "name": "Add_In_Inventory.ipynb",
      "provenance": []
    },
    "kernelspec": {
      "name": "python3",
      "display_name": "Python 3"
    },
    "language_info": {
      "name": "python"
    }
  },
  "cells": [
    {
      "cell_type": "code",
      "metadata": {
        "id": "0S08qsrsvpYc"
      },
      "source": [
        "record = {'1001': {'name': 'Choco Cake', 'pr': 100, 'qn': 34},\n",
        " '1002': {'name': 'Milk Cake', 'pr': 800, 'qn': 100},\n",
        " '1003': {'name': 'Drink', 'pr': 85, 'qn': 100},\n",
        " '1004': {'name': 'Candy', 'pr': 5, 'qn': 1000},\n",
        " '1005': {'name': 'Pen', 'pr': 20, 'qn': 100},\n",
        " '1006': {'name': 'Phone', 'pr': 50000, 'qn': 10},\n",
        " '1007': {'name': 'Mic', 'pr': 1500, 'qn': 0},\n",
        " '1008': {'name': 'Case', 'pr': 599, 'qn': 5},\n",
        " '1009': {'name': 'keyboard', 'pr': 1000, 'qn': 34},\n",
        " '1010': {'name': 'mouse', 'pr': 800, 'qn': 100},\n",
        " '1011': {'name': 'coffee', 'pr': 85, 'qn': 100},\n",
        " '1012': {'name': 'milk', 'pr': 50, 'qn': 1000},\n",
        " '1013': {'name': 'chair', 'pr': 2000, 'qn': 100},\n",
        " '1014': {'name': 'headphones', 'pr': 5000, 'qn': 10},\n",
        " '1015': {'name': 'pillow', 'pr': 1500, 'qn': 0},\n",
        " '1016': {'name': 'mattress', 'pr': 599, 'qn': 5},\n",
        " '1017': {'name': 'watch', 'pr': 1000, 'qn': 34},\n",
        " '1018': {'name': 'charger', 'pr': 800, 'qn': 100},\n",
        " '1019': {'name': 'cable', 'pr': 85, 'qn': 100},\n",
        " '1020': {'name': 'chocolate', 'pr': 5, 'qn': 1000},\n",
        " '1021': {'name': 'soap', 'pr': 20, 'qn': 100},\n",
        " '1022': {'name': 'handwash', 'pr': 50, 'qn': 10},\n",
        " '1023': {'name': 'shampoo', 'pr': 50, 'qn': 0},\n",
        " '1024': {'name': 'conditioner', 'pr': 50, 'qn': 5},\n",
        " '1025': {'name': 'cream', 'pr': 40, 'qn': 34},\n",
        " '1026': {'name': 'salt', 'pr': 30, 'qn': 100},\n",
        " '1027': {'name': 'sugar', 'pr': 30, 'qn': 100},\n",
        " '1028': {'name': 'tea', 'pr': 30, 'qn': 1000},\n",
        " '1029': {'name': 'chilly', 'pr': 20, 'qn': 100},\n",
        " '1030': {'name': 'pepper', 'pr': 30, 'qn': 10}}\n",
        " "
      ],
      "execution_count": 2,
      "outputs": []
    },
    {
      "cell_type": "markdown",
      "metadata": {
        "id": "uSrmGYkAyznB"
      },
      "source": [
        "Read the file"
      ]
    },
    {
      "cell_type": "code",
      "metadata": {
        "id": "rgCH_oPtvukt"
      },
      "source": [
        "import json"
      ],
      "execution_count": 3,
      "outputs": []
    },
    {
      "cell_type": "code",
      "metadata": {
        "id": "DALrGubMv6XC"
      },
      "source": [
        "js = json.dumps(record)"
      ],
      "execution_count": 4,
      "outputs": []
    },
    {
      "cell_type": "code",
      "metadata": {
        "colab": {
          "base_uri": "https://localhost:8080/",
          "height": 137
        },
        "id": "G1JmU0P1v8mD",
        "outputId": "395ac7eb-f6e9-4299-b05f-6dc1321a3cd8"
      },
      "source": [
        "js"
      ],
      "execution_count": 5,
      "outputs": [
        {
          "output_type": "execute_result",
          "data": {
            "application/vnd.google.colaboratory.intrinsic+json": {
              "type": "string"
            },
            "text/plain": [
              "'{\"1001\": {\"name\": \"Choco Cake\", \"pr\": 100, \"qn\": 34}, \"1002\": {\"name\": \"Milk Cake\", \"pr\": 800, \"qn\": 100}, \"1003\": {\"name\": \"Drink\", \"pr\": 85, \"qn\": 100}, \"1004\": {\"name\": \"Candy\", \"pr\": 5, \"qn\": 1000}, \"1005\": {\"name\": \"Pen\", \"pr\": 20, \"qn\": 100}, \"1006\": {\"name\": \"Phone\", \"pr\": 50000, \"qn\": 10}, \"1007\": {\"name\": \"Mic\", \"pr\": 1500, \"qn\": 0}, \"1008\": {\"name\": \"Case\", \"pr\": 599, \"qn\": 5}, \"1009\": {\"name\": \"keyboard\", \"pr\": 1000, \"qn\": 34}, \"1010\": {\"name\": \"mouse\", \"pr\": 800, \"qn\": 100}, \"1011\": {\"name\": \"coffee\", \"pr\": 85, \"qn\": 100}, \"1012\": {\"name\": \"milk\", \"pr\": 50, \"qn\": 1000}, \"1013\": {\"name\": \"chair\", \"pr\": 2000, \"qn\": 100}, \"1014\": {\"name\": \"headphones\", \"pr\": 5000, \"qn\": 10}, \"1015\": {\"name\": \"pillow\", \"pr\": 1500, \"qn\": 0}, \"1016\": {\"name\": \"mattress\", \"pr\": 599, \"qn\": 5}, \"1017\": {\"name\": \"watch\", \"pr\": 1000, \"qn\": 34}, \"1018\": {\"name\": \"charger\", \"pr\": 800, \"qn\": 100}, \"1019\": {\"name\": \"cable\", \"pr\": 85, \"qn\": 100}, \"1020\": {\"name\": \"chocolate\", \"pr\": 5, \"qn\": 1000}, \"1021\": {\"name\": \"soap\", \"pr\": 20, \"qn\": 100}, \"1022\": {\"name\": \"handwash\", \"pr\": 50, \"qn\": 10}, \"1023\": {\"name\": \"shampoo\", \"pr\": 50, \"qn\": 0}, \"1024\": {\"name\": \"conditioner\", \"pr\": 50, \"qn\": 5}, \"1025\": {\"name\": \"cream\", \"pr\": 40, \"qn\": 34}, \"1026\": {\"name\": \"salt\", \"pr\": 30, \"qn\": 100}, \"1027\": {\"name\": \"sugar\", \"pr\": 30, \"qn\": 100}, \"1028\": {\"name\": \"tea\", \"pr\": 30, \"qn\": 1000}, \"1029\": {\"name\": \"chilly\", \"pr\": 20, \"qn\": 100}, \"1030\": {\"name\": \"pepper\", \"pr\": 30, \"qn\": 10}}'"
            ]
          },
          "metadata": {},
          "execution_count": 5
        }
      ]
    },
    {
      "cell_type": "code",
      "metadata": {
        "id": "Wd2-w2_ev_Kf"
      },
      "source": [
        "fd = open(\"record.txt\",'w')\n",
        "\n",
        "fd.write(js)\n",
        "\n",
        "fd.close()"
      ],
      "execution_count": 8,
      "outputs": []
    },
    {
      "cell_type": "code",
      "metadata": {
        "id": "VnTN6_nlwxQf"
      },
      "source": [
        "fd = open(\"record.txt\",'r')\n",
        "\n",
        "txt = fd.read()\n",
        "\n",
        "fd.close()"
      ],
      "execution_count": 9,
      "outputs": []
    },
    {
      "cell_type": "markdown",
      "metadata": {
        "id": "4pz40SFUwOji"
      },
      "source": [
        "Add new item in inventory or update the existing item"
      ]
    },
    {
      "cell_type": "code",
      "metadata": {
        "colab": {
          "base_uri": "https://localhost:8080/"
        },
        "id": "pJPRmKkiwRNw",
        "outputId": "c86efae9-0424-4f3c-deb0-53185931f4af"
      },
      "source": [
        "prod_id = str(input(\"Enter product id:\"))\n",
        "qn = int(input(\"Enter quantity:\"))\n",
        "if(prod_id in record.keys()):\n",
        "  print(\"Product exists\")\n",
        "  record[prod_id]['qn'] = record[prod_id]['qn'] + qn\n",
        "else:\n",
        "    name = str(input(\"Enter name:\"))\n",
        "    pr = int(input(\"Enter price:\"))\n",
        "    record[prod_id] = {'name': name, 'pr': pr, 'qn': qn}\n",
        "\n",
        "js = json.dumps(record)\n",
        "\n",
        "fd = open(\"record.json\",'w')\n",
        "fd.write(js)\n",
        "fd.close()"
      ],
      "execution_count": 11,
      "outputs": [
        {
          "output_type": "stream",
          "name": "stdout",
          "text": [
            "Enter product id:1001\n",
            "Enter quantity:50\n",
            "Product exists\n"
          ]
        }
      ]
    },
    {
      "cell_type": "code",
      "metadata": {
        "colab": {
          "base_uri": "https://localhost:8080/"
        },
        "id": "Db8GTI18w8QX",
        "outputId": "cf041664-25c2-4c27-e4c7-44750b2493d2"
      },
      "source": [
        "record"
      ],
      "execution_count": 12,
      "outputs": [
        {
          "output_type": "execute_result",
          "data": {
            "text/plain": [
              "{'1001': {'name': 'Choco Cake', 'pr': 100, 'qn': 84},\n",
              " '1002': {'name': 'Milk Cake', 'pr': 800, 'qn': 100},\n",
              " '1003': {'name': 'Drink', 'pr': 85, 'qn': 100},\n",
              " '1004': {'name': 'Candy', 'pr': 5, 'qn': 1000},\n",
              " '1005': {'name': 'Pen', 'pr': 20, 'qn': 100},\n",
              " '1006': {'name': 'Phone', 'pr': 50000, 'qn': 10},\n",
              " '1007': {'name': 'Mic', 'pr': 1500, 'qn': 0},\n",
              " '1008': {'name': 'Case', 'pr': 599, 'qn': 5},\n",
              " '1009': {'name': 'keyboard', 'pr': 1000, 'qn': 34},\n",
              " '1010': {'name': 'mouse', 'pr': 800, 'qn': 100},\n",
              " '1011': {'name': 'coffee', 'pr': 85, 'qn': 100},\n",
              " '1012': {'name': 'milk', 'pr': 50, 'qn': 1000},\n",
              " '1013': {'name': 'chair', 'pr': 2000, 'qn': 100},\n",
              " '1014': {'name': 'headphones', 'pr': 5000, 'qn': 10},\n",
              " '1015': {'name': 'pillow', 'pr': 1500, 'qn': 0},\n",
              " '1016': {'name': 'mattress', 'pr': 599, 'qn': 5},\n",
              " '1017': {'name': 'watch', 'pr': 1000, 'qn': 34},\n",
              " '1018': {'name': 'charger', 'pr': 800, 'qn': 100},\n",
              " '1019': {'name': 'cable', 'pr': 85, 'qn': 100},\n",
              " '1020': {'name': 'chocolate', 'pr': 5, 'qn': 1000},\n",
              " '1021': {'name': 'soap', 'pr': 20, 'qn': 100},\n",
              " '1022': {'name': 'handwash', 'pr': 50, 'qn': 10},\n",
              " '1023': {'name': 'shampoo', 'pr': 50, 'qn': 0},\n",
              " '1024': {'name': 'conditioner', 'pr': 50, 'qn': 5},\n",
              " '1025': {'name': 'cream', 'pr': 40, 'qn': 34},\n",
              " '1026': {'name': 'salt', 'pr': 30, 'qn': 100},\n",
              " '1027': {'name': 'sugar', 'pr': 30, 'qn': 100},\n",
              " '1028': {'name': 'tea', 'pr': 30, 'qn': 1000},\n",
              " '1029': {'name': 'chilly', 'pr': 20, 'qn': 100},\n",
              " '1030': {'name': 'pepper', 'pr': 30, 'qn': 10},\n",
              " '1031': {'name': 'pop', 'pr': 400, 'qn': 300}}"
            ]
          },
          "metadata": {},
          "execution_count": 12
        }
      ]
    }
  ]
}