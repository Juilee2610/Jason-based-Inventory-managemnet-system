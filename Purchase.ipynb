{
  "nbformat": 4,
  "nbformat_minor": 0,
  "metadata": {
    "colab": {
      "name": "Purchase.ipynb",
      "provenance": []
    },
    "kernelspec": {
      "name": "python3",
      "display_name": "Python 3"
    },
    "language_info": {
      "name": "python"
    }
  },
  "cells": [
    {
      "cell_type": "code",
      "metadata": {
        "id": "NPhC9Q-Hfog_"
      },
      "source": [
        "record = {'1001': {'name': 'Choco Cake', 'pr': 100, 'qn': 34},\n",
        " '1002': {'name': 'Milk Cake', 'pr': 800, 'qn': 100},\n",
        " '1003': {'name': 'Drink', 'pr': 85, 'qn': 100},\n",
        " '1004': {'name': 'Candy', 'pr': 5, 'qn': 1000},\n",
        " '1005': {'name': 'Pen', 'pr': 20, 'qn': 100},\n",
        " '1006': {'name': 'Phone', 'pr': 50000, 'qn': 10},\n",
        " '1007': {'name': 'Mic', 'pr': 1500, 'qn': 0},\n",
        " '1008': {'name': 'Case', 'pr': 599, 'qn': 5},\n",
        " '1009': {'name': 'keyboard', 'pr': 1000, 'qn': 34},\n",
        " '1010': {'name': 'mouse', 'pr': 800, 'qn': 100},\n",
        " '1011': {'name': 'coffee', 'pr': 85, 'qn': 100},\n",
        " '1012': {'name': 'milk', 'pr': 50, 'qn': 1000},\n",
        " '1013': {'name': 'chair', 'pr': 2000, 'qn': 100},\n",
        " '1014': {'name': 'headphones', 'pr': 5000, 'qn': 10},\n",
        " '1015': {'name': 'pillow', 'pr': 1500, 'qn': 0},\n",
        " '1016': {'name': 'mattress', 'pr': 599, 'qn': 5},\n",
        " '1017': {'name': 'watch', 'pr': 1000, 'qn': 34},\n",
        " '1018': {'name': 'charger', 'pr': 800, 'qn': 100},\n",
        " '1019': {'name': 'cable', 'pr': 85, 'qn': 100},\n",
        " '1020': {'name': 'chocolate', 'pr': 5, 'qn': 1000},\n",
        " '1021': {'name': 'soap', 'pr': 20, 'qn': 100},\n",
        " '1022': {'name': 'handwash', 'pr': 50, 'qn': 10},\n",
        " '1023': {'name': 'shampoo', 'pr': 50, 'qn': 0},\n",
        " '1024': {'name': 'conditioner', 'pr': 50, 'qn': 5},\n",
        " '1025': {'name': 'cream', 'pr': 40, 'qn': 34},\n",
        " '1026': {'name': 'salt', 'pr': 30, 'qn': 100},\n",
        " '1027': {'name': 'sugar', 'pr': 30, 'qn': 100},\n",
        " '1028': {'name': 'tea', 'pr': 30, 'qn': 1000},\n",
        " '1029': {'name': 'chilly', 'pr': 20, 'qn': 100},\n",
        " '1030': {'name': 'pepper', 'pr': 30, 'qn': 10}}\n",
        " "
      ],
      "execution_count": 5,
      "outputs": []
    },
    {
      "cell_type": "code",
      "metadata": {
        "id": "9cfqRR5ifpoO"
      },
      "source": [
        "import json"
      ],
      "execution_count": 6,
      "outputs": []
    },
    {
      "cell_type": "markdown",
      "metadata": {
        "id": "5sH7cl0quj7v"
      },
      "source": [
        "Read data from json"
      ]
    },
    {
      "cell_type": "code",
      "metadata": {
        "id": "j6TLiXmlfrkp"
      },
      "source": [
        "js = json.dumps(record)"
      ],
      "execution_count": 7,
      "outputs": []
    },
    {
      "cell_type": "code",
      "metadata": {
        "colab": {
          "base_uri": "https://localhost:8080/",
          "height": 171
        },
        "id": "qttZXUdkf2xu",
        "outputId": "e5572a62-e58f-4e71-ecbf-9f2e93563244"
      },
      "source": [
        "js"
      ],
      "execution_count": 8,
      "outputs": [
        {
          "output_type": "execute_result",
          "data": {
            "application/vnd.google.colaboratory.intrinsic+json": {
              "type": "string"
            },
            "text/plain": [
              "'{\"1001\": {\"name\": \"Choco Cake\", \"pr\": 100, \"qn\": 34}, \"1002\": {\"name\": \"Milk Cake\", \"pr\": 800, \"qn\": 100}, \"1003\": {\"name\": \"Drink\", \"pr\": 85, \"qn\": 100}, \"1004\": {\"name\": \"Candy\", \"pr\": 5, \"qn\": 1000}, \"1005\": {\"name\": \"Pen\", \"pr\": 20, \"qn\": 100}, \"1006\": {\"name\": \"Phone\", \"pr\": 50000, \"qn\": 10}, \"1007\": {\"name\": \"Mic\", \"pr\": 1500, \"qn\": 0}, \"1008\": {\"name\": \"Case\", \"pr\": 599, \"qn\": 5}, \"1009\": {\"name\": \"keyboard\", \"pr\": 1000, \"qn\": 34}, \"1010\": {\"name\": \"mouse\", \"pr\": 800, \"qn\": 100}, \"1011\": {\"name\": \"coffee\", \"pr\": 85, \"qn\": 100}, \"1012\": {\"name\": \"milk\", \"pr\": 50, \"qn\": 1000}, \"1013\": {\"name\": \"chair\", \"pr\": 2000, \"qn\": 100}, \"1014\": {\"name\": \"headphones\", \"pr\": 5000, \"qn\": 10}, \"1015\": {\"name\": \"pillow\", \"pr\": 1500, \"qn\": 0}, \"1016\": {\"name\": \"mattress\", \"pr\": 599, \"qn\": 5}, \"1017\": {\"name\": \"watch\", \"pr\": 1000, \"qn\": 34}, \"1018\": {\"name\": \"charger\", \"pr\": 800, \"qn\": 100}, \"1019\": {\"name\": \"cable\", \"pr\": 85, \"qn\": 100}, \"1020\": {\"name\": \"chocolate\", \"pr\": 5, \"qn\": 1000}, \"1021\": {\"name\": \"soap\", \"pr\": 20, \"qn\": 100}, \"1022\": {\"name\": \"handwash\", \"pr\": 50, \"qn\": 10}, \"1023\": {\"name\": \"shampoo\", \"pr\": 50, \"qn\": 0}, \"1024\": {\"name\": \"conditioner\", \"pr\": 50, \"qn\": 5}, \"1025\": {\"name\": \"cream\", \"pr\": 40, \"qn\": 34}, \"1026\": {\"name\": \"salt\", \"pr\": 30, \"qn\": 100}, \"1027\": {\"name\": \"sugar\", \"pr\": 30, \"qn\": 100}, \"1028\": {\"name\": \"tea\", \"pr\": 30, \"qn\": 1000}, \"1029\": {\"name\": \"chilly\", \"pr\": 20, \"qn\": 100}, \"1030\": {\"name\": \"pepper\", \"pr\": 30, \"qn\": 10}}'"
            ]
          },
          "metadata": {},
          "execution_count": 8
        }
      ]
    },
    {
      "cell_type": "code",
      "metadata": {
        "id": "3I9D1NcEhMav"
      },
      "source": [
        "fd = open(\"record.txt\",'w')\n",
        "\n",
        "fd.write(js)\n",
        "\n",
        "fd.close()"
      ],
      "execution_count": 9,
      "outputs": []
    },
    {
      "cell_type": "code",
      "metadata": {
        "id": "PI4tMxsVhOpX"
      },
      "source": [
        "fd = open(\"record.txt\",'r')\n",
        "\n",
        "txt = fd.read()\n",
        "\n",
        "fd.close()"
      ],
      "execution_count": 10,
      "outputs": []
    },
    {
      "cell_type": "code",
      "metadata": {
        "id": "3zAqlZtch1Gl",
        "outputId": "5f8345ff-ecd5-4816-911d-4ab4b8c2d3b4",
        "colab": {
          "base_uri": "https://localhost:8080/",
          "height": 171
        }
      },
      "source": [
        "txt"
      ],
      "execution_count": 11,
      "outputs": [
        {
          "output_type": "execute_result",
          "data": {
            "application/vnd.google.colaboratory.intrinsic+json": {
              "type": "string"
            },
            "text/plain": [
              "'{\"1001\": {\"name\": \"Choco Cake\", \"pr\": 100, \"qn\": 34}, \"1002\": {\"name\": \"Milk Cake\", \"pr\": 800, \"qn\": 100}, \"1003\": {\"name\": \"Drink\", \"pr\": 85, \"qn\": 100}, \"1004\": {\"name\": \"Candy\", \"pr\": 5, \"qn\": 1000}, \"1005\": {\"name\": \"Pen\", \"pr\": 20, \"qn\": 100}, \"1006\": {\"name\": \"Phone\", \"pr\": 50000, \"qn\": 10}, \"1007\": {\"name\": \"Mic\", \"pr\": 1500, \"qn\": 0}, \"1008\": {\"name\": \"Case\", \"pr\": 599, \"qn\": 5}, \"1009\": {\"name\": \"keyboard\", \"pr\": 1000, \"qn\": 34}, \"1010\": {\"name\": \"mouse\", \"pr\": 800, \"qn\": 100}, \"1011\": {\"name\": \"coffee\", \"pr\": 85, \"qn\": 100}, \"1012\": {\"name\": \"milk\", \"pr\": 50, \"qn\": 1000}, \"1013\": {\"name\": \"chair\", \"pr\": 2000, \"qn\": 100}, \"1014\": {\"name\": \"headphones\", \"pr\": 5000, \"qn\": 10}, \"1015\": {\"name\": \"pillow\", \"pr\": 1500, \"qn\": 0}, \"1016\": {\"name\": \"mattress\", \"pr\": 599, \"qn\": 5}, \"1017\": {\"name\": \"watch\", \"pr\": 1000, \"qn\": 34}, \"1018\": {\"name\": \"charger\", \"pr\": 800, \"qn\": 100}, \"1019\": {\"name\": \"cable\", \"pr\": 85, \"qn\": 100}, \"1020\": {\"name\": \"chocolate\", \"pr\": 5, \"qn\": 1000}, \"1021\": {\"name\": \"soap\", \"pr\": 20, \"qn\": 100}, \"1022\": {\"name\": \"handwash\", \"pr\": 50, \"qn\": 10}, \"1023\": {\"name\": \"shampoo\", \"pr\": 50, \"qn\": 0}, \"1024\": {\"name\": \"conditioner\", \"pr\": 50, \"qn\": 5}, \"1025\": {\"name\": \"cream\", \"pr\": 40, \"qn\": 34}, \"1026\": {\"name\": \"salt\", \"pr\": 30, \"qn\": 100}, \"1027\": {\"name\": \"sugar\", \"pr\": 30, \"qn\": 100}, \"1028\": {\"name\": \"tea\", \"pr\": 30, \"qn\": 1000}, \"1029\": {\"name\": \"chilly\", \"pr\": 20, \"qn\": 100}, \"1030\": {\"name\": \"pepper\", \"pr\": 30, \"qn\": 10}}'"
            ]
          },
          "metadata": {},
          "execution_count": 11
        }
      ]
    },
    {
      "cell_type": "code",
      "metadata": {
        "id": "BGh-nQ5siewx"
      },
      "source": [
        "records = json.loads(txt)"
      ],
      "execution_count": 12,
      "outputs": []
    },
    {
      "cell_type": "code",
      "metadata": {
        "id": "6G53blMxilf-",
        "outputId": "82f175af-bc09-4cd7-d377-fa9a34bca6bc",
        "colab": {
          "base_uri": "https://localhost:8080/"
        }
      },
      "source": [
        "records"
      ],
      "execution_count": 13,
      "outputs": [
        {
          "output_type": "execute_result",
          "data": {
            "text/plain": [
              "{'1001': {'name': 'Choco Cake', 'pr': 100, 'qn': 34},\n",
              " '1002': {'name': 'Milk Cake', 'pr': 800, 'qn': 100},\n",
              " '1003': {'name': 'Drink', 'pr': 85, 'qn': 100},\n",
              " '1004': {'name': 'Candy', 'pr': 5, 'qn': 1000},\n",
              " '1005': {'name': 'Pen', 'pr': 20, 'qn': 100},\n",
              " '1006': {'name': 'Phone', 'pr': 50000, 'qn': 10},\n",
              " '1007': {'name': 'Mic', 'pr': 1500, 'qn': 0},\n",
              " '1008': {'name': 'Case', 'pr': 599, 'qn': 5},\n",
              " '1009': {'name': 'keyboard', 'pr': 1000, 'qn': 34},\n",
              " '1010': {'name': 'mouse', 'pr': 800, 'qn': 100},\n",
              " '1011': {'name': 'coffee', 'pr': 85, 'qn': 100},\n",
              " '1012': {'name': 'milk', 'pr': 50, 'qn': 1000},\n",
              " '1013': {'name': 'chair', 'pr': 2000, 'qn': 100},\n",
              " '1014': {'name': 'headphones', 'pr': 5000, 'qn': 10},\n",
              " '1015': {'name': 'pillow', 'pr': 1500, 'qn': 0},\n",
              " '1016': {'name': 'mattress', 'pr': 599, 'qn': 5},\n",
              " '1017': {'name': 'watch', 'pr': 1000, 'qn': 34},\n",
              " '1018': {'name': 'charger', 'pr': 800, 'qn': 100},\n",
              " '1019': {'name': 'cable', 'pr': 85, 'qn': 100},\n",
              " '1020': {'name': 'chocolate', 'pr': 5, 'qn': 1000},\n",
              " '1021': {'name': 'soap', 'pr': 20, 'qn': 100},\n",
              " '1022': {'name': 'handwash', 'pr': 50, 'qn': 10},\n",
              " '1023': {'name': 'shampoo', 'pr': 50, 'qn': 0},\n",
              " '1024': {'name': 'conditioner', 'pr': 50, 'qn': 5},\n",
              " '1025': {'name': 'cream', 'pr': 40, 'qn': 34},\n",
              " '1026': {'name': 'salt', 'pr': 30, 'qn': 100},\n",
              " '1027': {'name': 'sugar', 'pr': 30, 'qn': 100},\n",
              " '1028': {'name': 'tea', 'pr': 30, 'qn': 1000},\n",
              " '1029': {'name': 'chilly', 'pr': 20, 'qn': 100},\n",
              " '1030': {'name': 'pepper', 'pr': 30, 'qn': 10}}"
            ]
          },
          "metadata": {},
          "execution_count": 13
        }
      ]
    },
    {
      "cell_type": "markdown",
      "metadata": {
        "id": "SBvDl1Lc9KvT"
      },
      "source": [
        "PURCHASE"
      ]
    },
    {
      "cell_type": "code",
      "metadata": {
        "id": "GjpvvG2s9Nv2",
        "outputId": "fa563101-2762-4a07-c402-4b7589c53ea0",
        "colab": {
          "base_uri": "https://localhost:8080/"
        }
      },
      "source": [
        "\n",
        "import time\n",
        "\n",
        "ui_prod  = str(input(\"Enter the product_Id: \"))\n",
        "ui_quant = int(input(\"Enter the quantity: \"))\n",
        "\n",
        "\n",
        "print(\"Product: \", records[ui_prod]['name'])\n",
        "print(\"Price: \", records[ui_prod]['pr'])\n",
        "print(\"Billing Amount: \", records[ui_prod]['pr'] * ui_quant)\n",
        "t = time.localtime()\n",
        "current_time = time.strftime(\"%H:%M:%S\", t)\n",
        "print(\"Time: \",current_time)\n",
        "records[ui_prod]['qn'] = records[ui_prod]['qn'] - ui_quant"
      ],
      "execution_count": 14,
      "outputs": [
        {
          "output_type": "stream",
          "name": "stdout",
          "text": [
            "Enter the product_Id: 1001\n",
            "Enter the quantity: 2\n",
            "Product:  Choco Cake\n",
            "Price:  100\n",
            "Billing Amount:  200\n",
            "Time:  10:53:19\n"
          ]
        }
      ]
    },
    {
      "cell_type": "code",
      "metadata": {
        "id": "V3LoUFbL-Oiv"
      },
      "source": [
        "js = json.dumps(records)\n",
        "\n",
        "fd = open(\"record.json\",'w')\n",
        "fd.write(js)\n",
        "fd.close()"
      ],
      "execution_count": 15,
      "outputs": []
    },
    {
      "cell_type": "code",
      "metadata": {
        "id": "BFlZ7J07-cLa",
        "outputId": "7926602c-5d09-4d7d-b89b-c712918c8811",
        "colab": {
          "base_uri": "https://localhost:8080/"
        }
      },
      "source": [
        "records"
      ],
      "execution_count": 16,
      "outputs": [
        {
          "output_type": "execute_result",
          "data": {
            "text/plain": [
              "{'1001': {'name': 'Choco Cake', 'pr': 100, 'qn': 32},\n",
              " '1002': {'name': 'Milk Cake', 'pr': 800, 'qn': 100},\n",
              " '1003': {'name': 'Drink', 'pr': 85, 'qn': 100},\n",
              " '1004': {'name': 'Candy', 'pr': 5, 'qn': 1000},\n",
              " '1005': {'name': 'Pen', 'pr': 20, 'qn': 100},\n",
              " '1006': {'name': 'Phone', 'pr': 50000, 'qn': 10},\n",
              " '1007': {'name': 'Mic', 'pr': 1500, 'qn': 0},\n",
              " '1008': {'name': 'Case', 'pr': 599, 'qn': 5},\n",
              " '1009': {'name': 'keyboard', 'pr': 1000, 'qn': 34},\n",
              " '1010': {'name': 'mouse', 'pr': 800, 'qn': 100},\n",
              " '1011': {'name': 'coffee', 'pr': 85, 'qn': 100},\n",
              " '1012': {'name': 'milk', 'pr': 50, 'qn': 1000},\n",
              " '1013': {'name': 'chair', 'pr': 2000, 'qn': 100},\n",
              " '1014': {'name': 'headphones', 'pr': 5000, 'qn': 10},\n",
              " '1015': {'name': 'pillow', 'pr': 1500, 'qn': 0},\n",
              " '1016': {'name': 'mattress', 'pr': 599, 'qn': 5},\n",
              " '1017': {'name': 'watch', 'pr': 1000, 'qn': 34},\n",
              " '1018': {'name': 'charger', 'pr': 800, 'qn': 100},\n",
              " '1019': {'name': 'cable', 'pr': 85, 'qn': 100},\n",
              " '1020': {'name': 'chocolate', 'pr': 5, 'qn': 1000},\n",
              " '1021': {'name': 'soap', 'pr': 20, 'qn': 100},\n",
              " '1022': {'name': 'handwash', 'pr': 50, 'qn': 10},\n",
              " '1023': {'name': 'shampoo', 'pr': 50, 'qn': 0},\n",
              " '1024': {'name': 'conditioner', 'pr': 50, 'qn': 5},\n",
              " '1025': {'name': 'cream', 'pr': 40, 'qn': 34},\n",
              " '1026': {'name': 'salt', 'pr': 30, 'qn': 100},\n",
              " '1027': {'name': 'sugar', 'pr': 30, 'qn': 100},\n",
              " '1028': {'name': 'tea', 'pr': 30, 'qn': 1000},\n",
              " '1029': {'name': 'chilly', 'pr': 20, 'qn': 100},\n",
              " '1030': {'name': 'pepper', 'pr': 30, 'qn': 10}}"
            ]
          },
          "metadata": {},
          "execution_count": 16
        }
      ]
    }
  ]
}